{
  "nbformat": 4,
  "nbformat_minor": 0,
  "metadata": {
    "colab": {
      "name": "ms-research-anomaly.ipynb",
      "provenance": [],
      "collapsed_sections": []
    },
    "kernelspec": {
      "name": "python3",
      "display_name": "Python 3"
    },
    "accelerator": "GPU"
  },
  "cells": [
    {
      "cell_type": "markdown",
      "metadata": {
        "id": "IiJbckADo5FT",
        "colab_type": "text"
      },
      "source": [
        "Setup env"
      ]
    },
    {
      "cell_type": "code",
      "metadata": {
        "id": "ozKl3Tztneu7",
        "colab_type": "code",
        "colab": {
          "base_uri": "https://localhost:8080/",
          "height": 136
        },
        "outputId": "5959d819-8aca-4ece-b456-243a4b6fd8bd"
      },
      "source": [
        "!git clone https://github.com/dan-r95/anomalydetector\n"
      ],
      "execution_count": 1,
      "outputs": [
        {
          "output_type": "stream",
          "text": [
            "Cloning into 'anomalydetector'...\n",
            "remote: Enumerating objects: 7, done.\u001b[K\n",
            "remote: Counting objects: 100% (7/7), done.\u001b[K\n",
            "remote: Compressing objects: 100% (7/7), done.\u001b[K\n",
            "remote: Total 6659 (delta 0), reused 2 (delta 0), pack-reused 6652\n",
            "Receiving objects: 100% (6659/6659), 376.13 MiB | 13.13 MiB/s, done.\n",
            "Resolving deltas: 100% (1211/1211), done.\n"
          ],
          "name": "stdout"
        }
      ]
    },
    {
      "cell_type": "code",
      "metadata": {
        "id": "OrCp9tX1oO_N",
        "colab_type": "code",
        "colab": {
          "base_uri": "https://localhost:8080/",
          "height": 85
        },
        "outputId": "8b819a49-9150-492e-ca05-23ef591783f6"
      },
      "source": [
        "%cd anomalydetector\n",
        "!ls"
      ],
      "execution_count": 2,
      "outputs": [
        {
          "output_type": "stream",
          "text": [
            "/content/anomalydetector\n",
            "aml_module  MANIFEST.in        requirements.txt  srcnn\n",
            "LICENSE     msanomalydetector  samples\t\t tests\n",
            "main.py     README.md\t       setup.py\t\t version.py\n"
          ],
          "name": "stdout"
        }
      ]
    },
    {
      "cell_type": "markdown",
      "metadata": {
        "id": "nBAeiib0Mv6c",
        "colab_type": "text"
      },
      "source": [
        "**SR - CNN setup **"
      ]
    },
    {
      "cell_type": "code",
      "metadata": {
        "id": "dSnXxJ9FBKAi",
        "colab_type": "code",
        "colab": {
          "base_uri": "https://localhost:8080/",
          "height": 173
        },
        "outputId": "6040d8dd-7300-4dea-9e05-4f1596fed6c9"
      },
      "source": [
        "!pip3 install -r requirements.txt"
      ],
      "execution_count": 11,
      "outputs": [
        {
          "output_type": "stream",
          "text": [
            "Requirement already satisfied: Cython>=0.29.2 in /usr/local/lib/python3.6/dist-packages (from -r requirements.txt (line 1)) (0.29.17)\n",
            "Requirement already satisfied: numpy==1.18.1 in /usr/local/lib/python3.6/dist-packages (from -r requirements.txt (line 2)) (1.18.1)\n",
            "Requirement already satisfied: pandas==0.25.3 in /usr/local/lib/python3.6/dist-packages (from -r requirements.txt (line 3)) (0.25.3)\n",
            "Requirement already satisfied: torch in /usr/local/lib/python3.6/dist-packages (from -r requirements.txt (line 4)) (1.5.0+cu101)\n",
            "Requirement already satisfied: python-dateutil>=2.6.1 in /usr/local/lib/python3.6/dist-packages (from pandas==0.25.3->-r requirements.txt (line 3)) (2.8.1)\n",
            "Requirement already satisfied: pytz>=2017.2 in /usr/local/lib/python3.6/dist-packages (from pandas==0.25.3->-r requirements.txt (line 3)) (2018.9)\n",
            "Requirement already satisfied: future in /usr/local/lib/python3.6/dist-packages (from torch->-r requirements.txt (line 4)) (0.16.0)\n",
            "Requirement already satisfied: six>=1.5 in /usr/local/lib/python3.6/dist-packages (from python-dateutil>=2.6.1->pandas==0.25.3->-r requirements.txt (line 3)) (1.12.0)\n"
          ],
          "name": "stdout"
        }
      ]
    },
    {
      "cell_type": "code",
      "metadata": {
        "id": "QPx4GJM_2LkD",
        "colab_type": "code",
        "colab": {
          "base_uri": "https://localhost:8080/",
          "height": 1000
        },
        "outputId": "a2358362-5424-4230-9086-f8a22a08209b"
      },
      "source": [
        "!python3 setup.py install"
      ],
      "execution_count": 9,
      "outputs": [
        {
          "output_type": "stream",
          "text": [
            "/content/anomalydetector\n",
            "running install\n",
            "running bdist_egg\n",
            "running egg_info\n",
            "writing msanomalydetector.egg-info/PKG-INFO\n",
            "writing dependency_links to msanomalydetector.egg-info/dependency_links.txt\n",
            "writing requirements to msanomalydetector.egg-info/requires.txt\n",
            "writing top-level names to msanomalydetector.egg-info/top_level.txt\n",
            "reading manifest template 'MANIFEST.in'\n",
            "writing manifest file 'msanomalydetector.egg-info/SOURCES.txt'\n",
            "installing library code to build/bdist.linux-x86_64/egg\n",
            "running install_lib\n",
            "running build_py\n",
            "running build_ext\n",
            "creating build/bdist.linux-x86_64/egg\n",
            "creating build/bdist.linux-x86_64/egg/msanomalydetector\n",
            "copying build/lib.linux-x86_64-3.6/msanomalydetector/_anomaly_kernel_cython.cpython-36m-x86_64-linux-gnu.so -> build/bdist.linux-x86_64/egg/msanomalydetector\n",
            "copying build/lib.linux-x86_64-3.6/msanomalydetector/__init__.py -> build/bdist.linux-x86_64/egg/msanomalydetector\n",
            "copying build/lib.linux-x86_64-3.6/msanomalydetector/util.py -> build/bdist.linux-x86_64/egg/msanomalydetector\n",
            "copying build/lib.linux-x86_64-3.6/msanomalydetector/boundary_utils.py -> build/bdist.linux-x86_64/egg/msanomalydetector\n",
            "copying build/lib.linux-x86_64-3.6/msanomalydetector/spectral_residual.py -> build/bdist.linux-x86_64/egg/msanomalydetector\n",
            "creating build/bdist.linux-x86_64/egg/tests\n",
            "copying build/lib.linux-x86_64-3.6/tests/test_boundary_utils.py -> build/bdist.linux-x86_64/egg/tests\n",
            "copying build/lib.linux-x86_64-3.6/tests/__init__.py -> build/bdist.linux-x86_64/egg/tests\n",
            "copying build/lib.linux-x86_64-3.6/tests/test_spectral_residual.py -> build/bdist.linux-x86_64/egg/tests\n",
            "byte-compiling build/bdist.linux-x86_64/egg/msanomalydetector/__init__.py to __init__.cpython-36.pyc\n",
            "byte-compiling build/bdist.linux-x86_64/egg/msanomalydetector/util.py to util.cpython-36.pyc\n",
            "byte-compiling build/bdist.linux-x86_64/egg/msanomalydetector/boundary_utils.py to boundary_utils.cpython-36.pyc\n",
            "byte-compiling build/bdist.linux-x86_64/egg/msanomalydetector/spectral_residual.py to spectral_residual.cpython-36.pyc\n",
            "byte-compiling build/bdist.linux-x86_64/egg/tests/test_boundary_utils.py to test_boundary_utils.cpython-36.pyc\n",
            "byte-compiling build/bdist.linux-x86_64/egg/tests/__init__.py to __init__.cpython-36.pyc\n",
            "byte-compiling build/bdist.linux-x86_64/egg/tests/test_spectral_residual.py to test_spectral_residual.cpython-36.pyc\n",
            "creating stub loader for msanomalydetector/_anomaly_kernel_cython.cpython-36m-x86_64-linux-gnu.so\n",
            "byte-compiling build/bdist.linux-x86_64/egg/msanomalydetector/_anomaly_kernel_cython.py to _anomaly_kernel_cython.cpython-36.pyc\n",
            "creating build/bdist.linux-x86_64/egg/EGG-INFO\n",
            "copying msanomalydetector.egg-info/PKG-INFO -> build/bdist.linux-x86_64/egg/EGG-INFO\n",
            "copying msanomalydetector.egg-info/SOURCES.txt -> build/bdist.linux-x86_64/egg/EGG-INFO\n",
            "copying msanomalydetector.egg-info/dependency_links.txt -> build/bdist.linux-x86_64/egg/EGG-INFO\n",
            "copying msanomalydetector.egg-info/requires.txt -> build/bdist.linux-x86_64/egg/EGG-INFO\n",
            "copying msanomalydetector.egg-info/top_level.txt -> build/bdist.linux-x86_64/egg/EGG-INFO\n",
            "writing build/bdist.linux-x86_64/egg/EGG-INFO/native_libs.txt\n",
            "zip_safe flag not set; analyzing archive contents...\n",
            "msanomalydetector.__pycache__._anomaly_kernel_cython.cpython-36: module references __file__\n",
            "creating 'dist/msanomalydetector-1.1-py3.6-linux-x86_64.egg' and adding 'build/bdist.linux-x86_64/egg' to it\n",
            "removing 'build/bdist.linux-x86_64/egg' (and everything under it)\n",
            "Processing msanomalydetector-1.1-py3.6-linux-x86_64.egg\n",
            "removing '/usr/local/lib/python3.6/dist-packages/msanomalydetector-1.1-py3.6-linux-x86_64.egg' (and everything under it)\n",
            "creating /usr/local/lib/python3.6/dist-packages/msanomalydetector-1.1-py3.6-linux-x86_64.egg\n",
            "Extracting msanomalydetector-1.1-py3.6-linux-x86_64.egg to /usr/local/lib/python3.6/dist-packages\n",
            "msanomalydetector 1.1 is already the active version in easy-install.pth\n",
            "\n",
            "Installed /usr/local/lib/python3.6/dist-packages/msanomalydetector-1.1-py3.6-linux-x86_64.egg\n",
            "Processing dependencies for msanomalydetector==1.1\n",
            "Searching for pandas==0.25.3\n",
            "Best match: pandas 0.25.3\n",
            "Adding pandas 0.25.3 to easy-install.pth file\n",
            "\n",
            "Using /usr/local/lib/python3.6/dist-packages\n",
            "Searching for numpy==1.18.1\n",
            "Best match: numpy 1.18.1\n",
            "Adding numpy 1.18.1 to easy-install.pth file\n",
            "Installing f2py script to /usr/local/bin\n",
            "Installing f2py3 script to /usr/local/bin\n",
            "Installing f2py3.6 script to /usr/local/bin\n",
            "\n",
            "Using /usr/local/lib/python3.6/dist-packages\n",
            "Searching for Cython==0.29.17\n",
            "Best match: Cython 0.29.17\n",
            "Adding Cython 0.29.17 to easy-install.pth file\n",
            "Installing cygdb script to /usr/local/bin\n",
            "Installing cython script to /usr/local/bin\n",
            "Installing cythonize script to /usr/local/bin\n",
            "\n",
            "Using /usr/local/lib/python3.6/dist-packages\n",
            "Searching for pytz==2018.9\n",
            "Best match: pytz 2018.9\n",
            "Adding pytz 2018.9 to easy-install.pth file\n",
            "\n",
            "Using /usr/local/lib/python3.6/dist-packages\n",
            "Searching for python-dateutil==2.8.1\n",
            "Best match: python-dateutil 2.8.1\n",
            "Adding python-dateutil 2.8.1 to easy-install.pth file\n",
            "\n",
            "Using /usr/local/lib/python3.6/dist-packages\n",
            "Searching for six==1.12.0\n",
            "Best match: six 1.12.0\n",
            "Adding six 1.12.0 to easy-install.pth file\n",
            "\n",
            "Using /usr/local/lib/python3.6/dist-packages\n",
            "Finished processing dependencies for msanomalydetector==1.1\n"
          ],
          "name": "stdout"
        }
      ]
    },
    {
      "cell_type": "code",
      "metadata": {
        "id": "DczKmXhPABPM",
        "colab_type": "code",
        "colab": {
          "base_uri": "https://localhost:8080/",
          "height": 102
        },
        "outputId": "1effb3ea-51a7-4354-bdcf-8d53f76f5b1c"
      },
      "source": [
        "%cd anomalydetector\n",
        "!ls"
      ],
      "execution_count": 3,
      "outputs": [
        {
          "output_type": "stream",
          "text": [
            "[Errno 2] No such file or directory: 'anomalydetector'\n",
            "/content/anomalydetector\n",
            "aml_module  MANIFEST.in        requirements.txt  srcnn\n",
            "LICENSE     msanomalydetector  samples\t\t tests\n",
            "main.py     README.md\t       setup.py\t\t version.py\n"
          ],
          "name": "stdout"
        }
      ]
    },
    {
      "cell_type": "code",
      "metadata": {
        "id": "-bUA3ibYpGtI",
        "colab_type": "code",
        "colab": {
          "base_uri": "https://localhost:8080/",
          "height": 153
        },
        "outputId": "4b46316f-518e-4ccd-9383-6ecc37739499"
      },
      "source": [
        "%cd srcnn\n",
        "!python3 generate_data.py --data /content/anomalydetector/samples"
      ],
      "execution_count": 42,
      "outputs": [
        {
          "output_type": "stream",
          "text": [
            "/content/anomalydetector/srcnn\n",
            "['test', '.ipynb_checkpoints'] fadir\n",
            "['/content/anomalydetector/samples/test/sample.csv'] files\n",
            "generating train data\n",
            "reading /content/anomalydetector/samples/test/sample.csv\n",
            "file num: 1\n",
            "total fake data size: 61\n",
            "/content/anomalydetector/samples_128_train.json\n"
          ],
          "name": "stdout"
        }
      ]
    },
    {
      "cell_type": "markdown",
      "metadata": {
        "id": "3Cjm4Nga9wYh",
        "colab_type": "text"
      },
      "source": [
        "2.train.py is the network training module of SR-CNN. SR transformer is applied on each time-series before training.\n"
      ]
    },
    {
      "cell_type": "code",
      "metadata": {
        "id": "uSEZv-X69xjQ",
        "colab_type": "code",
        "colab": {
          "base_uri": "https://localhost:8080/",
          "height": 768
        },
        "outputId": "7033ce50-e286-4f63-be01-10f5d7d1d188"
      },
      "source": [
        "!python3 train.py --data /content/anomalydetector/samples"
      ],
      "execution_count": 47,
      "outputs": [
        {
          "output_type": "stream",
          "text": [
            "DataParallel(\n",
            "  (module): Anomaly(\n",
            "    (layer1): Conv1d(128, 128, kernel_size=(1,), stride=(1,))\n",
            "    (layer2): Conv1d(128, 256, kernel_size=(1,), stride=(1,))\n",
            "    (fc1): Linear(in_features=256, out_features=512, bias=True)\n",
            "    (fc2): Linear(in_features=512, out_features=128, bias=True)\n",
            "    (relu): ReLU(inplace=True)\n",
            "  )\n",
            ")\n",
            "length : 61\n",
            "epoch : 1\n",
            "Iteration:   0% 0/1 [00:00<?, ?it/s]/content/anomalydetector/srcnn/utils.py:152: UserWarning: torch.nn.utils.clip_grad_norm is now deprecated in favor of torch.nn.utils.clip_grad_norm_.\n",
            "  torch.nn.utils.clip_grad_norm(net.parameters(), 5.0)\n",
            "Train Epoch: 1 [0/61 (0%)]\tLoss: 94.182329\n",
            "Iteration: 100% 1/1 [00:00<00:00,  2.45it/s]\n",
            "epoch : 2\n",
            "Iteration:   0% 0/1 [00:00<?, ?it/s]Train Epoch: 2 [0/61 (0%)]\tLoss: 93.652512\n",
            "Iteration: 100% 1/1 [00:00<00:00,  2.60it/s]\n",
            "epoch : 3\n",
            "Iteration:   0% 0/1 [00:00<?, ?it/s]Train Epoch: 3 [0/61 (0%)]\tLoss: 93.156922\n",
            "Iteration: 100% 1/1 [00:00<00:00,  2.67it/s]\n",
            "epoch : 4\n",
            "Iteration:   0% 0/1 [00:00<?, ?it/s]Train Epoch: 4 [0/61 (0%)]\tLoss: 92.462530\n",
            "Iteration: 100% 1/1 [00:00<00:00,  2.63it/s]\n",
            "epoch : 5\n",
            "Iteration:   0% 0/1 [00:00<?, ?it/s]Train Epoch: 5 [0/61 (0%)]\tLoss: 91.600818\n",
            "Iteration: 100% 1/1 [00:00<00:00,  2.67it/s]\n",
            "epoch : 6\n",
            "Iteration:   0% 0/1 [00:00<?, ?it/s]Train Epoch: 6 [0/61 (0%)]\tLoss: 90.601034\n",
            "Iteration: 100% 1/1 [00:00<00:00,  2.63it/s]\n",
            "epoch : 7\n",
            "Iteration:   0% 0/1 [00:00<?, ?it/s]Train Epoch: 7 [0/61 (0%)]\tLoss: 89.489554\n",
            "Iteration: 100% 1/1 [00:00<00:00,  2.62it/s]\n",
            "epoch : 8\n",
            "Iteration:   0% 0/1 [00:00<?, ?it/s]Train Epoch: 8 [0/61 (0%)]\tLoss: 88.290103\n",
            "Iteration: 100% 1/1 [00:00<00:00,  2.58it/s]\n",
            "epoch : 9\n",
            "Iteration:   0% 0/1 [00:00<?, ?it/s]Train Epoch: 9 [0/61 (0%)]\tLoss: 87.021644\n",
            "Iteration: 100% 1/1 [00:00<00:00,  2.65it/s]\n",
            "epoch : 10\n",
            "Iteration:   0% 0/1 [00:00<?, ?it/s]Train Epoch: 10 [0/61 (0%)]\tLoss: 85.699163\n",
            "Iteration: 100% 1/1 [00:00<00:00,  2.62it/s]\n",
            "time used for training: 7.172913551330566 seconds\n"
          ],
          "name": "stdout"
        }
      ]
    },
    {
      "cell_type": "markdown",
      "metadata": {
        "id": "JpcNGPit_liq",
        "colab_type": "text"
      },
      "source": [
        "3.evalue.py is the evaluation module.As mentioned in our paper,\n",
        "\n",
        "we set different delays to verify whether a whole section of anomalies can be detected in time. For example, When delay = 7, for an entire segment of anomaly, if the anomaly detector can issue an alarm at its first 7 points, it is considered that the entire segment of anomaly has been successfully detected, otherwise it is considered to have not been detected.\n",
        "Run the code:\n"
      ]
    },
    {
      "cell_type": "code",
      "metadata": {
        "id": "PmW7C_vt_qOK",
        "colab_type": "code",
        "colab": {
          "base_uri": "https://localhost:8080/",
          "height": 224
        },
        "outputId": "b5dcbe0d-e705-426b-c8cf-a72074c5af9c"
      },
      "source": [
        "!python3 evalue.py --data /content/anomalydetector/samples/test"
      ],
      "execution_count": 50,
      "outputs": [
        {
          "output_type": "stream",
          "text": [
            "<module 'torch.utils.data' from '/usr/local/lib/python3.6/dist-packages/torch/utils/data/__init__.py'> 128 10\n",
            "loading /content/anomalydetector/srcnn/snapshot/srcnn_retry10_128.bin\n",
            "reading /content/anomalydetector/samples/test/sample.csv\n",
            "Traceback (most recent call last):\n",
            "  File \"evalue.py\", line 116, in <module>\n",
            "    total_time, results, savedscore = get_score(data_source, files, args.thres, args.missing_option)\n",
            "  File \"evalue.py\", line 69, in get_score\n",
            "    tmp_data = read_pkl(f)\n",
            "  File \"/content/anomalydetector/srcnn/utils.py\", line 44, in read_pkl\n",
            "    return pickle.load(f)\n",
            "_pickle.UnpicklingError: could not find MARK\n"
          ],
          "name": "stdout"
        }
      ]
    },
    {
      "cell_type": "markdown",
      "metadata": {
        "id": "ZCKncAVOM0s9",
        "colab_type": "text"
      },
      "source": [
        "**SR setup **"
      ]
    },
    {
      "cell_type": "code",
      "metadata": {
        "id": "7knrtN2pM2hI",
        "colab_type": "code",
        "colab": {
          "base_uri": "https://localhost:8080/",
          "height": 221
        },
        "outputId": "9c86fd06-c2f2-4976-8dfa-70e97aa4c204"
      },
      "source": [
        "%cd /content/anomalydetector/\n",
        "!python3 main.py"
      ],
      "execution_count": 40,
      "outputs": [
        {
          "output_type": "stream",
          "text": [
            "Requirement already satisfied: Cython in /usr/local/lib/python3.6/dist-packages (0.29.17)\n",
            "/content/anomalydetector\n",
            "Traceback (most recent call last):\n",
            "  File \"main.py\", line 1, in <module>\n",
            "    from msanomalydetector import SpectralResidual\n",
            "  File \"/content/anomalydetector/msanomalydetector/__init__.py\", line 1, in <module>\n",
            "    from msanomalydetector.spectral_residual import SpectralResidual\n",
            "  File \"/content/anomalydetector/msanomalydetector/spectral_residual.py\", line 31, in <module>\n",
            "    import msanomalydetector.boundary_utils as boundary_helper\n",
            "  File \"/content/anomalydetector/msanomalydetector/boundary_utils.py\", line 3, in <module>\n",
            "    from _anomaly_kernel_cython import median_filter\n",
            "ModuleNotFoundError: No module named '_anomaly_kernel_cython'\n"
          ],
          "name": "stdout"
        }
      ]
    }
  ]
}